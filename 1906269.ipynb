{
 "cells": [
  {
   "cell_type": "code",
   "execution_count": 2,
   "id": "a71237c8",
   "metadata": {},
   "outputs": [],
   "source": [
    "import pandas as pd\n",
    "import numpy as np\n",
    "import matplotlib.pyplot as plt\n",
    "import seaborn as sns\n"
   ]
  },
  {
   "cell_type": "code",
   "execution_count": 3,
   "id": "fa739579",
   "metadata": {},
   "outputs": [
    {
     "data": {
      "text/html": [
       "<div>\n",
       "<style scoped>\n",
       "    .dataframe tbody tr th:only-of-type {\n",
       "        vertical-align: middle;\n",
       "    }\n",
       "\n",
       "    .dataframe tbody tr th {\n",
       "        vertical-align: top;\n",
       "    }\n",
       "\n",
       "    .dataframe thead th {\n",
       "        text-align: right;\n",
       "    }\n",
       "</style>\n",
       "<table border=\"1\" class=\"dataframe\">\n",
       "  <thead>\n",
       "    <tr style=\"text-align: right;\">\n",
       "      <th></th>\n",
       "      <th>CustID</th>\n",
       "      <th>AgentBonus</th>\n",
       "      <th>Age</th>\n",
       "      <th>CustTenure</th>\n",
       "      <th>Channel</th>\n",
       "      <th>Occupation</th>\n",
       "      <th>EducationField</th>\n",
       "      <th>Gender</th>\n",
       "      <th>ExistingProdType</th>\n",
       "      <th>Designation</th>\n",
       "      <th>NumberOfPolicy</th>\n",
       "      <th>MaritalStatus</th>\n",
       "      <th>MonthlyIncome</th>\n",
       "      <th>Complaint</th>\n",
       "      <th>ExistingPolicyTenure</th>\n",
       "      <th>SumAssured</th>\n",
       "      <th>Zone</th>\n",
       "      <th>PaymentMethod</th>\n",
       "      <th>LastMonthCalls</th>\n",
       "      <th>CustCareScore</th>\n",
       "    </tr>\n",
       "  </thead>\n",
       "  <tbody>\n",
       "    <tr>\n",
       "      <th>0</th>\n",
       "      <td>7000000</td>\n",
       "      <td>4409</td>\n",
       "      <td>22.0</td>\n",
       "      <td>4.0</td>\n",
       "      <td>Agent</td>\n",
       "      <td>Salaried</td>\n",
       "      <td>Graduate</td>\n",
       "      <td>Female</td>\n",
       "      <td>3</td>\n",
       "      <td>Manager</td>\n",
       "      <td>2.0</td>\n",
       "      <td>Single</td>\n",
       "      <td>20993.0</td>\n",
       "      <td>1</td>\n",
       "      <td>2.0</td>\n",
       "      <td>806761.0</td>\n",
       "      <td>North</td>\n",
       "      <td>Half Yearly</td>\n",
       "      <td>5</td>\n",
       "      <td>2.0</td>\n",
       "    </tr>\n",
       "    <tr>\n",
       "      <th>1</th>\n",
       "      <td>7000001</td>\n",
       "      <td>2214</td>\n",
       "      <td>11.0</td>\n",
       "      <td>2.0</td>\n",
       "      <td>Third Party Partner</td>\n",
       "      <td>Salaried</td>\n",
       "      <td>Graduate</td>\n",
       "      <td>Male</td>\n",
       "      <td>4</td>\n",
       "      <td>Manager</td>\n",
       "      <td>4.0</td>\n",
       "      <td>Divorced</td>\n",
       "      <td>20130.0</td>\n",
       "      <td>0</td>\n",
       "      <td>3.0</td>\n",
       "      <td>294502.0</td>\n",
       "      <td>North</td>\n",
       "      <td>Yearly</td>\n",
       "      <td>7</td>\n",
       "      <td>3.0</td>\n",
       "    </tr>\n",
       "    <tr>\n",
       "      <th>2</th>\n",
       "      <td>7000002</td>\n",
       "      <td>4273</td>\n",
       "      <td>26.0</td>\n",
       "      <td>4.0</td>\n",
       "      <td>Agent</td>\n",
       "      <td>Free Lancer</td>\n",
       "      <td>Post Graduate</td>\n",
       "      <td>Male</td>\n",
       "      <td>4</td>\n",
       "      <td>Exe</td>\n",
       "      <td>3.0</td>\n",
       "      <td>Unmarried</td>\n",
       "      <td>17090.0</td>\n",
       "      <td>1</td>\n",
       "      <td>2.0</td>\n",
       "      <td>NaN</td>\n",
       "      <td>North</td>\n",
       "      <td>Yearly</td>\n",
       "      <td>0</td>\n",
       "      <td>3.0</td>\n",
       "    </tr>\n",
       "    <tr>\n",
       "      <th>3</th>\n",
       "      <td>7000003</td>\n",
       "      <td>1791</td>\n",
       "      <td>11.0</td>\n",
       "      <td>NaN</td>\n",
       "      <td>Third Party Partner</td>\n",
       "      <td>Salaried</td>\n",
       "      <td>Graduate</td>\n",
       "      <td>Fe male</td>\n",
       "      <td>3</td>\n",
       "      <td>Executive</td>\n",
       "      <td>3.0</td>\n",
       "      <td>Divorced</td>\n",
       "      <td>17909.0</td>\n",
       "      <td>1</td>\n",
       "      <td>2.0</td>\n",
       "      <td>268635.0</td>\n",
       "      <td>West</td>\n",
       "      <td>Half Yearly</td>\n",
       "      <td>0</td>\n",
       "      <td>5.0</td>\n",
       "    </tr>\n",
       "    <tr>\n",
       "      <th>4</th>\n",
       "      <td>7000004</td>\n",
       "      <td>2955</td>\n",
       "      <td>6.0</td>\n",
       "      <td>NaN</td>\n",
       "      <td>Agent</td>\n",
       "      <td>Small Business</td>\n",
       "      <td>UG</td>\n",
       "      <td>Male</td>\n",
       "      <td>3</td>\n",
       "      <td>Executive</td>\n",
       "      <td>4.0</td>\n",
       "      <td>Divorced</td>\n",
       "      <td>18468.0</td>\n",
       "      <td>0</td>\n",
       "      <td>4.0</td>\n",
       "      <td>366405.0</td>\n",
       "      <td>West</td>\n",
       "      <td>Half Yearly</td>\n",
       "      <td>2</td>\n",
       "      <td>5.0</td>\n",
       "    </tr>\n",
       "    <tr>\n",
       "      <th>5</th>\n",
       "      <td>7000005</td>\n",
       "      <td>3252</td>\n",
       "      <td>7.0</td>\n",
       "      <td>NaN</td>\n",
       "      <td>Third Party Partner</td>\n",
       "      <td>Salaried</td>\n",
       "      <td>Graduate</td>\n",
       "      <td>Male</td>\n",
       "      <td>3</td>\n",
       "      <td>Executive</td>\n",
       "      <td>2.0</td>\n",
       "      <td>Single</td>\n",
       "      <td>18068.0</td>\n",
       "      <td>0</td>\n",
       "      <td>2.0</td>\n",
       "      <td>487836.0</td>\n",
       "      <td>North</td>\n",
       "      <td>Half Yearly</td>\n",
       "      <td>6</td>\n",
       "      <td>5.0</td>\n",
       "    </tr>\n",
       "    <tr>\n",
       "      <th>6</th>\n",
       "      <td>7000006</td>\n",
       "      <td>3850</td>\n",
       "      <td>12.0</td>\n",
       "      <td>23.0</td>\n",
       "      <td>Agent</td>\n",
       "      <td>Salaried</td>\n",
       "      <td>Graduate</td>\n",
       "      <td>Male</td>\n",
       "      <td>4</td>\n",
       "      <td>VP</td>\n",
       "      <td>3.0</td>\n",
       "      <td>Divorced</td>\n",
       "      <td>34999.0</td>\n",
       "      <td>0</td>\n",
       "      <td>2.0</td>\n",
       "      <td>392689.0</td>\n",
       "      <td>North</td>\n",
       "      <td>Yearly</td>\n",
       "      <td>9</td>\n",
       "      <td>2.0</td>\n",
       "    </tr>\n",
       "    <tr>\n",
       "      <th>7</th>\n",
       "      <td>7000007</td>\n",
       "      <td>2073</td>\n",
       "      <td>6.0</td>\n",
       "      <td>4.0</td>\n",
       "      <td>Agent</td>\n",
       "      <td>Small Business</td>\n",
       "      <td>Under Graduate</td>\n",
       "      <td>Female</td>\n",
       "      <td>3</td>\n",
       "      <td>Executive</td>\n",
       "      <td>4.0</td>\n",
       "      <td>Unmarried</td>\n",
       "      <td>17279.0</td>\n",
       "      <td>0</td>\n",
       "      <td>2.0</td>\n",
       "      <td>369079.0</td>\n",
       "      <td>West</td>\n",
       "      <td>Half Yearly</td>\n",
       "      <td>3</td>\n",
       "      <td>3.0</td>\n",
       "    </tr>\n",
       "    <tr>\n",
       "      <th>8</th>\n",
       "      <td>7000008</td>\n",
       "      <td>2719</td>\n",
       "      <td>8.0</td>\n",
       "      <td>11.0</td>\n",
       "      <td>Agent</td>\n",
       "      <td>Salaried</td>\n",
       "      <td>Graduate</td>\n",
       "      <td>Male</td>\n",
       "      <td>4</td>\n",
       "      <td>Manager</td>\n",
       "      <td>3.0</td>\n",
       "      <td>Divorced</td>\n",
       "      <td>20916.0</td>\n",
       "      <td>1</td>\n",
       "      <td>1.0</td>\n",
       "      <td>405143.0</td>\n",
       "      <td>West</td>\n",
       "      <td>Yearly</td>\n",
       "      <td>1</td>\n",
       "      <td>4.0</td>\n",
       "    </tr>\n",
       "    <tr>\n",
       "      <th>9</th>\n",
       "      <td>7000009</td>\n",
       "      <td>3247</td>\n",
       "      <td>6.0</td>\n",
       "      <td>3.0</td>\n",
       "      <td>Online</td>\n",
       "      <td>Small Business</td>\n",
       "      <td>Under Graduate</td>\n",
       "      <td>Male</td>\n",
       "      <td>2</td>\n",
       "      <td>Exe</td>\n",
       "      <td>2.0</td>\n",
       "      <td>Married</td>\n",
       "      <td>17089.0</td>\n",
       "      <td>0</td>\n",
       "      <td>1.0</td>\n",
       "      <td>NaN</td>\n",
       "      <td>West</td>\n",
       "      <td>Quarterly</td>\n",
       "      <td>2</td>\n",
       "      <td>4.0</td>\n",
       "    </tr>\n",
       "  </tbody>\n",
       "</table>\n",
       "</div>"
      ],
      "text/plain": [
       "    CustID  AgentBonus   Age  CustTenure              Channel      Occupation  \\\n",
       "0  7000000        4409  22.0         4.0                Agent        Salaried   \n",
       "1  7000001        2214  11.0         2.0  Third Party Partner        Salaried   \n",
       "2  7000002        4273  26.0         4.0                Agent     Free Lancer   \n",
       "3  7000003        1791  11.0         NaN  Third Party Partner        Salaried   \n",
       "4  7000004        2955   6.0         NaN                Agent  Small Business   \n",
       "5  7000005        3252   7.0         NaN  Third Party Partner        Salaried   \n",
       "6  7000006        3850  12.0        23.0                Agent        Salaried   \n",
       "7  7000007        2073   6.0         4.0                Agent  Small Business   \n",
       "8  7000008        2719   8.0        11.0                Agent        Salaried   \n",
       "9  7000009        3247   6.0         3.0               Online  Small Business   \n",
       "\n",
       "   EducationField   Gender  ExistingProdType Designation  NumberOfPolicy  \\\n",
       "0        Graduate   Female                 3     Manager             2.0   \n",
       "1        Graduate     Male                 4     Manager             4.0   \n",
       "2   Post Graduate     Male                 4         Exe             3.0   \n",
       "3        Graduate  Fe male                 3   Executive             3.0   \n",
       "4              UG     Male                 3   Executive             4.0   \n",
       "5        Graduate     Male                 3   Executive             2.0   \n",
       "6        Graduate     Male                 4          VP             3.0   \n",
       "7  Under Graduate   Female                 3   Executive             4.0   \n",
       "8        Graduate     Male                 4     Manager             3.0   \n",
       "9  Under Graduate     Male                 2         Exe             2.0   \n",
       "\n",
       "  MaritalStatus  MonthlyIncome  Complaint  ExistingPolicyTenure  SumAssured  \\\n",
       "0        Single        20993.0          1                   2.0    806761.0   \n",
       "1      Divorced        20130.0          0                   3.0    294502.0   \n",
       "2     Unmarried        17090.0          1                   2.0         NaN   \n",
       "3      Divorced        17909.0          1                   2.0    268635.0   \n",
       "4      Divorced        18468.0          0                   4.0    366405.0   \n",
       "5        Single        18068.0          0                   2.0    487836.0   \n",
       "6      Divorced        34999.0          0                   2.0    392689.0   \n",
       "7     Unmarried        17279.0          0                   2.0    369079.0   \n",
       "8      Divorced        20916.0          1                   1.0    405143.0   \n",
       "9       Married        17089.0          0                   1.0         NaN   \n",
       "\n",
       "    Zone PaymentMethod  LastMonthCalls  CustCareScore  \n",
       "0  North   Half Yearly               5            2.0  \n",
       "1  North        Yearly               7            3.0  \n",
       "2  North        Yearly               0            3.0  \n",
       "3   West   Half Yearly               0            5.0  \n",
       "4   West   Half Yearly               2            5.0  \n",
       "5  North   Half Yearly               6            5.0  \n",
       "6  North        Yearly               9            2.0  \n",
       "7   West   Half Yearly               3            3.0  \n",
       "8   West        Yearly               1            4.0  \n",
       "9   West     Quarterly               2            4.0  "
      ]
     },
     "execution_count": 3,
     "metadata": {},
     "output_type": "execute_result"
    }
   ],
   "source": [
    "df = pd.read_excel('Sales_Data_EDA.xlsx','Sales' )\n",
    "df.head(10)\n"
   ]
  },
  {
   "cell_type": "code",
   "execution_count": 4,
   "id": "a73c5b86",
   "metadata": {},
   "outputs": [
    {
     "data": {
      "text/html": [
       "<div>\n",
       "<style scoped>\n",
       "    .dataframe tbody tr th:only-of-type {\n",
       "        vertical-align: middle;\n",
       "    }\n",
       "\n",
       "    .dataframe tbody tr th {\n",
       "        vertical-align: top;\n",
       "    }\n",
       "\n",
       "    .dataframe thead th {\n",
       "        text-align: right;\n",
       "    }\n",
       "</style>\n",
       "<table border=\"1\" class=\"dataframe\">\n",
       "  <thead>\n",
       "    <tr style=\"text-align: right;\">\n",
       "      <th></th>\n",
       "      <th>AgentBonus</th>\n",
       "      <th>Age</th>\n",
       "      <th>CustTenure</th>\n",
       "      <th>Channel</th>\n",
       "      <th>Occupation</th>\n",
       "      <th>EducationField</th>\n",
       "      <th>Gender</th>\n",
       "      <th>ExistingProdType</th>\n",
       "      <th>Designation</th>\n",
       "      <th>NumberOfPolicy</th>\n",
       "      <th>MaritalStatus</th>\n",
       "      <th>MonthlyIncome</th>\n",
       "      <th>Complaint</th>\n",
       "      <th>ExistingPolicyTenure</th>\n",
       "      <th>SumAssured</th>\n",
       "      <th>Zone</th>\n",
       "      <th>PaymentMethod</th>\n",
       "      <th>LastMonthCalls</th>\n",
       "      <th>CustCareScore</th>\n",
       "    </tr>\n",
       "    <tr>\n",
       "      <th>CustID</th>\n",
       "      <th></th>\n",
       "      <th></th>\n",
       "      <th></th>\n",
       "      <th></th>\n",
       "      <th></th>\n",
       "      <th></th>\n",
       "      <th></th>\n",
       "      <th></th>\n",
       "      <th></th>\n",
       "      <th></th>\n",
       "      <th></th>\n",
       "      <th></th>\n",
       "      <th></th>\n",
       "      <th></th>\n",
       "      <th></th>\n",
       "      <th></th>\n",
       "      <th></th>\n",
       "      <th></th>\n",
       "      <th></th>\n",
       "    </tr>\n",
       "  </thead>\n",
       "  <tbody>\n",
       "    <tr>\n",
       "      <th>7000000</th>\n",
       "      <td>4409</td>\n",
       "      <td>22.0</td>\n",
       "      <td>4.0</td>\n",
       "      <td>Agent</td>\n",
       "      <td>Salaried</td>\n",
       "      <td>Graduate</td>\n",
       "      <td>Female</td>\n",
       "      <td>3</td>\n",
       "      <td>Manager</td>\n",
       "      <td>2.0</td>\n",
       "      <td>Single</td>\n",
       "      <td>20993.0</td>\n",
       "      <td>1</td>\n",
       "      <td>2.0</td>\n",
       "      <td>806761.0</td>\n",
       "      <td>North</td>\n",
       "      <td>Half Yearly</td>\n",
       "      <td>5</td>\n",
       "      <td>2.0</td>\n",
       "    </tr>\n",
       "    <tr>\n",
       "      <th>7000001</th>\n",
       "      <td>2214</td>\n",
       "      <td>11.0</td>\n",
       "      <td>2.0</td>\n",
       "      <td>Third Party Partner</td>\n",
       "      <td>Salaried</td>\n",
       "      <td>Graduate</td>\n",
       "      <td>Male</td>\n",
       "      <td>4</td>\n",
       "      <td>Manager</td>\n",
       "      <td>4.0</td>\n",
       "      <td>Divorced</td>\n",
       "      <td>20130.0</td>\n",
       "      <td>0</td>\n",
       "      <td>3.0</td>\n",
       "      <td>294502.0</td>\n",
       "      <td>North</td>\n",
       "      <td>Yearly</td>\n",
       "      <td>7</td>\n",
       "      <td>3.0</td>\n",
       "    </tr>\n",
       "    <tr>\n",
       "      <th>7000002</th>\n",
       "      <td>4273</td>\n",
       "      <td>26.0</td>\n",
       "      <td>4.0</td>\n",
       "      <td>Agent</td>\n",
       "      <td>Free Lancer</td>\n",
       "      <td>Post Graduate</td>\n",
       "      <td>Male</td>\n",
       "      <td>4</td>\n",
       "      <td>Exe</td>\n",
       "      <td>3.0</td>\n",
       "      <td>Unmarried</td>\n",
       "      <td>17090.0</td>\n",
       "      <td>1</td>\n",
       "      <td>2.0</td>\n",
       "      <td>NaN</td>\n",
       "      <td>North</td>\n",
       "      <td>Yearly</td>\n",
       "      <td>0</td>\n",
       "      <td>3.0</td>\n",
       "    </tr>\n",
       "    <tr>\n",
       "      <th>7000003</th>\n",
       "      <td>1791</td>\n",
       "      <td>11.0</td>\n",
       "      <td>NaN</td>\n",
       "      <td>Third Party Partner</td>\n",
       "      <td>Salaried</td>\n",
       "      <td>Graduate</td>\n",
       "      <td>Fe male</td>\n",
       "      <td>3</td>\n",
       "      <td>Executive</td>\n",
       "      <td>3.0</td>\n",
       "      <td>Divorced</td>\n",
       "      <td>17909.0</td>\n",
       "      <td>1</td>\n",
       "      <td>2.0</td>\n",
       "      <td>268635.0</td>\n",
       "      <td>West</td>\n",
       "      <td>Half Yearly</td>\n",
       "      <td>0</td>\n",
       "      <td>5.0</td>\n",
       "    </tr>\n",
       "    <tr>\n",
       "      <th>7000004</th>\n",
       "      <td>2955</td>\n",
       "      <td>6.0</td>\n",
       "      <td>NaN</td>\n",
       "      <td>Agent</td>\n",
       "      <td>Small Business</td>\n",
       "      <td>UG</td>\n",
       "      <td>Male</td>\n",
       "      <td>3</td>\n",
       "      <td>Executive</td>\n",
       "      <td>4.0</td>\n",
       "      <td>Divorced</td>\n",
       "      <td>18468.0</td>\n",
       "      <td>0</td>\n",
       "      <td>4.0</td>\n",
       "      <td>366405.0</td>\n",
       "      <td>West</td>\n",
       "      <td>Half Yearly</td>\n",
       "      <td>2</td>\n",
       "      <td>5.0</td>\n",
       "    </tr>\n",
       "    <tr>\n",
       "      <th>...</th>\n",
       "      <td>...</td>\n",
       "      <td>...</td>\n",
       "      <td>...</td>\n",
       "      <td>...</td>\n",
       "      <td>...</td>\n",
       "      <td>...</td>\n",
       "      <td>...</td>\n",
       "      <td>...</td>\n",
       "      <td>...</td>\n",
       "      <td>...</td>\n",
       "      <td>...</td>\n",
       "      <td>...</td>\n",
       "      <td>...</td>\n",
       "      <td>...</td>\n",
       "      <td>...</td>\n",
       "      <td>...</td>\n",
       "      <td>...</td>\n",
       "      <td>...</td>\n",
       "      <td>...</td>\n",
       "    </tr>\n",
       "    <tr>\n",
       "      <th>7004515</th>\n",
       "      <td>3953</td>\n",
       "      <td>4.0</td>\n",
       "      <td>8.0</td>\n",
       "      <td>Agent</td>\n",
       "      <td>Small Business</td>\n",
       "      <td>Graduate</td>\n",
       "      <td>Male</td>\n",
       "      <td>4</td>\n",
       "      <td>Senior Manager</td>\n",
       "      <td>2.0</td>\n",
       "      <td>Single</td>\n",
       "      <td>26355.0</td>\n",
       "      <td>0</td>\n",
       "      <td>2.0</td>\n",
       "      <td>636473.0</td>\n",
       "      <td>West</td>\n",
       "      <td>Yearly</td>\n",
       "      <td>9</td>\n",
       "      <td>1.0</td>\n",
       "    </tr>\n",
       "    <tr>\n",
       "      <th>7004516</th>\n",
       "      <td>2939</td>\n",
       "      <td>9.0</td>\n",
       "      <td>9.0</td>\n",
       "      <td>Agent</td>\n",
       "      <td>Salaried</td>\n",
       "      <td>Under Graduate</td>\n",
       "      <td>Female</td>\n",
       "      <td>2</td>\n",
       "      <td>Executive</td>\n",
       "      <td>2.0</td>\n",
       "      <td>Married</td>\n",
       "      <td>20991.0</td>\n",
       "      <td>0</td>\n",
       "      <td>3.0</td>\n",
       "      <td>296813.0</td>\n",
       "      <td>North</td>\n",
       "      <td>Yearly</td>\n",
       "      <td>1</td>\n",
       "      <td>3.0</td>\n",
       "    </tr>\n",
       "    <tr>\n",
       "      <th>7004517</th>\n",
       "      <td>3792</td>\n",
       "      <td>23.0</td>\n",
       "      <td>23.0</td>\n",
       "      <td>Agent</td>\n",
       "      <td>Salaried</td>\n",
       "      <td>Engineer</td>\n",
       "      <td>Female</td>\n",
       "      <td>5</td>\n",
       "      <td>AVP</td>\n",
       "      <td>5.0</td>\n",
       "      <td>Single</td>\n",
       "      <td>NaN</td>\n",
       "      <td>0</td>\n",
       "      <td>2.0</td>\n",
       "      <td>667371.0</td>\n",
       "      <td>North</td>\n",
       "      <td>Half Yearly</td>\n",
       "      <td>4</td>\n",
       "      <td>1.0</td>\n",
       "    </tr>\n",
       "    <tr>\n",
       "      <th>7004518</th>\n",
       "      <td>4816</td>\n",
       "      <td>10.0</td>\n",
       "      <td>10.0</td>\n",
       "      <td>Online</td>\n",
       "      <td>Small Business</td>\n",
       "      <td>Graduate</td>\n",
       "      <td>Female</td>\n",
       "      <td>4</td>\n",
       "      <td>Executive</td>\n",
       "      <td>2.0</td>\n",
       "      <td>Single</td>\n",
       "      <td>20068.0</td>\n",
       "      <td>0</td>\n",
       "      <td>6.0</td>\n",
       "      <td>943999.0</td>\n",
       "      <td>West</td>\n",
       "      <td>Half Yearly</td>\n",
       "      <td>1</td>\n",
       "      <td>5.0</td>\n",
       "    </tr>\n",
       "    <tr>\n",
       "      <th>7004519</th>\n",
       "      <td>4764</td>\n",
       "      <td>14.0</td>\n",
       "      <td>10.0</td>\n",
       "      <td>Agent</td>\n",
       "      <td>Salaried</td>\n",
       "      <td>Under Graduate</td>\n",
       "      <td>Female</td>\n",
       "      <td>5</td>\n",
       "      <td>Manager</td>\n",
       "      <td>2.0</td>\n",
       "      <td>Married</td>\n",
       "      <td>23820.0</td>\n",
       "      <td>0</td>\n",
       "      <td>3.0</td>\n",
       "      <td>700308.0</td>\n",
       "      <td>North</td>\n",
       "      <td>Half Yearly</td>\n",
       "      <td>1</td>\n",
       "      <td>3.0</td>\n",
       "    </tr>\n",
       "  </tbody>\n",
       "</table>\n",
       "<p>4520 rows × 19 columns</p>\n",
       "</div>"
      ],
      "text/plain": [
       "         AgentBonus   Age  CustTenure              Channel      Occupation  \\\n",
       "CustID                                                                       \n",
       "7000000        4409  22.0         4.0                Agent        Salaried   \n",
       "7000001        2214  11.0         2.0  Third Party Partner        Salaried   \n",
       "7000002        4273  26.0         4.0                Agent     Free Lancer   \n",
       "7000003        1791  11.0         NaN  Third Party Partner        Salaried   \n",
       "7000004        2955   6.0         NaN                Agent  Small Business   \n",
       "...             ...   ...         ...                  ...             ...   \n",
       "7004515        3953   4.0         8.0                Agent  Small Business   \n",
       "7004516        2939   9.0         9.0                Agent        Salaried   \n",
       "7004517        3792  23.0        23.0                Agent        Salaried   \n",
       "7004518        4816  10.0        10.0               Online  Small Business   \n",
       "7004519        4764  14.0        10.0                Agent        Salaried   \n",
       "\n",
       "         EducationField   Gender  ExistingProdType     Designation  \\\n",
       "CustID                                                               \n",
       "7000000        Graduate   Female                 3         Manager   \n",
       "7000001        Graduate     Male                 4         Manager   \n",
       "7000002   Post Graduate     Male                 4             Exe   \n",
       "7000003        Graduate  Fe male                 3       Executive   \n",
       "7000004              UG     Male                 3       Executive   \n",
       "...                 ...      ...               ...             ...   \n",
       "7004515        Graduate     Male                 4  Senior Manager   \n",
       "7004516  Under Graduate   Female                 2       Executive   \n",
       "7004517        Engineer   Female                 5             AVP   \n",
       "7004518        Graduate   Female                 4       Executive   \n",
       "7004519  Under Graduate   Female                 5         Manager   \n",
       "\n",
       "         NumberOfPolicy MaritalStatus  MonthlyIncome  Complaint  \\\n",
       "CustID                                                            \n",
       "7000000             2.0        Single        20993.0          1   \n",
       "7000001             4.0      Divorced        20130.0          0   \n",
       "7000002             3.0     Unmarried        17090.0          1   \n",
       "7000003             3.0      Divorced        17909.0          1   \n",
       "7000004             4.0      Divorced        18468.0          0   \n",
       "...                 ...           ...            ...        ...   \n",
       "7004515             2.0        Single        26355.0          0   \n",
       "7004516             2.0       Married        20991.0          0   \n",
       "7004517             5.0        Single            NaN          0   \n",
       "7004518             2.0        Single        20068.0          0   \n",
       "7004519             2.0       Married        23820.0          0   \n",
       "\n",
       "         ExistingPolicyTenure  SumAssured   Zone PaymentMethod  \\\n",
       "CustID                                                           \n",
       "7000000                   2.0    806761.0  North   Half Yearly   \n",
       "7000001                   3.0    294502.0  North        Yearly   \n",
       "7000002                   2.0         NaN  North        Yearly   \n",
       "7000003                   2.0    268635.0   West   Half Yearly   \n",
       "7000004                   4.0    366405.0   West   Half Yearly   \n",
       "...                       ...         ...    ...           ...   \n",
       "7004515                   2.0    636473.0   West        Yearly   \n",
       "7004516                   3.0    296813.0  North        Yearly   \n",
       "7004517                   2.0    667371.0  North   Half Yearly   \n",
       "7004518                   6.0    943999.0   West   Half Yearly   \n",
       "7004519                   3.0    700308.0  North   Half Yearly   \n",
       "\n",
       "         LastMonthCalls  CustCareScore  \n",
       "CustID                                  \n",
       "7000000               5            2.0  \n",
       "7000001               7            3.0  \n",
       "7000002               0            3.0  \n",
       "7000003               0            5.0  \n",
       "7000004               2            5.0  \n",
       "...                 ...            ...  \n",
       "7004515               9            1.0  \n",
       "7004516               1            3.0  \n",
       "7004517               4            1.0  \n",
       "7004518               1            5.0  \n",
       "7004519               1            3.0  \n",
       "\n",
       "[4520 rows x 19 columns]"
      ]
     },
     "execution_count": 4,
     "metadata": {},
     "output_type": "execute_result"
    }
   ],
   "source": [
    "df.set_index('CustID')"
   ]
  },
  {
   "cell_type": "code",
   "execution_count": 5,
   "id": "b438ec75",
   "metadata": {},
   "outputs": [
    {
     "data": {
      "text/plain": [
       "Index(['CustID', 'AgentBonus', 'Age', 'CustTenure', 'Channel', 'Occupation',\n",
       "       'EducationField', 'Gender', 'ExistingProdType', 'Designation',\n",
       "       'NumberOfPolicy', 'MaritalStatus', 'MonthlyIncome', 'Complaint',\n",
       "       'ExistingPolicyTenure', 'SumAssured', 'Zone', 'PaymentMethod',\n",
       "       'LastMonthCalls', 'CustCareScore'],\n",
       "      dtype='object')"
      ]
     },
     "execution_count": 5,
     "metadata": {},
     "output_type": "execute_result"
    }
   ],
   "source": [
    "df.columns"
   ]
  },
  {
   "cell_type": "code",
   "execution_count": 6,
   "id": "8694ead0",
   "metadata": {},
   "outputs": [
    {
     "name": "stdout",
     "output_type": "stream",
     "text": [
      "<class 'pandas.core.frame.DataFrame'>\n",
      "RangeIndex: 4520 entries, 0 to 4519\n",
      "Data columns (total 20 columns):\n",
      " #   Column                Non-Null Count  Dtype  \n",
      "---  ------                --------------  -----  \n",
      " 0   CustID                4520 non-null   int64  \n",
      " 1   AgentBonus            4520 non-null   int64  \n",
      " 2   Age                   4251 non-null   float64\n",
      " 3   CustTenure            4294 non-null   float64\n",
      " 4   Channel               4520 non-null   object \n",
      " 5   Occupation            4520 non-null   object \n",
      " 6   EducationField        4520 non-null   object \n",
      " 7   Gender                4520 non-null   object \n",
      " 8   ExistingProdType      4520 non-null   int64  \n",
      " 9   Designation           4520 non-null   object \n",
      " 10  NumberOfPolicy        4475 non-null   float64\n",
      " 11  MaritalStatus         4520 non-null   object \n",
      " 12  MonthlyIncome         4284 non-null   float64\n",
      " 13  Complaint             4520 non-null   int64  \n",
      " 14  ExistingPolicyTenure  4336 non-null   float64\n",
      " 15  SumAssured            4366 non-null   float64\n",
      " 16  Zone                  4520 non-null   object \n",
      " 17  PaymentMethod         4520 non-null   object \n",
      " 18  LastMonthCalls        4520 non-null   int64  \n",
      " 19  CustCareScore         4468 non-null   float64\n",
      "dtypes: float64(7), int64(5), object(8)\n",
      "memory usage: 706.4+ KB\n"
     ]
    }
   ],
   "source": [
    "df.info()"
   ]
  },
  {
   "cell_type": "code",
   "execution_count": 7,
   "id": "6dbe52ef",
   "metadata": {},
   "outputs": [
    {
     "data": {
      "text/html": [
       "<div>\n",
       "<style scoped>\n",
       "    .dataframe tbody tr th:only-of-type {\n",
       "        vertical-align: middle;\n",
       "    }\n",
       "\n",
       "    .dataframe tbody tr th {\n",
       "        vertical-align: top;\n",
       "    }\n",
       "\n",
       "    .dataframe thead th {\n",
       "        text-align: right;\n",
       "    }\n",
       "</style>\n",
       "<table border=\"1\" class=\"dataframe\">\n",
       "  <thead>\n",
       "    <tr style=\"text-align: right;\">\n",
       "      <th></th>\n",
       "      <th>CustID</th>\n",
       "      <th>AgentBonus</th>\n",
       "      <th>Age</th>\n",
       "      <th>CustTenure</th>\n",
       "      <th>ExistingProdType</th>\n",
       "      <th>NumberOfPolicy</th>\n",
       "      <th>MonthlyIncome</th>\n",
       "      <th>Complaint</th>\n",
       "      <th>ExistingPolicyTenure</th>\n",
       "      <th>SumAssured</th>\n",
       "      <th>LastMonthCalls</th>\n",
       "      <th>CustCareScore</th>\n",
       "    </tr>\n",
       "  </thead>\n",
       "  <tbody>\n",
       "    <tr>\n",
       "      <th>count</th>\n",
       "      <td>4.520000e+03</td>\n",
       "      <td>4520.000000</td>\n",
       "      <td>4251.000000</td>\n",
       "      <td>4294.000000</td>\n",
       "      <td>4520.000000</td>\n",
       "      <td>4475.000000</td>\n",
       "      <td>4284.000000</td>\n",
       "      <td>4520.000000</td>\n",
       "      <td>4336.000000</td>\n",
       "      <td>4.366000e+03</td>\n",
       "      <td>4520.000000</td>\n",
       "      <td>4468.000000</td>\n",
       "    </tr>\n",
       "    <tr>\n",
       "      <th>mean</th>\n",
       "      <td>7.002260e+06</td>\n",
       "      <td>4077.838274</td>\n",
       "      <td>14.494707</td>\n",
       "      <td>14.469027</td>\n",
       "      <td>3.688938</td>\n",
       "      <td>3.565363</td>\n",
       "      <td>22890.309991</td>\n",
       "      <td>0.287168</td>\n",
       "      <td>4.130074</td>\n",
       "      <td>6.199997e+05</td>\n",
       "      <td>4.626991</td>\n",
       "      <td>3.067592</td>\n",
       "    </tr>\n",
       "    <tr>\n",
       "      <th>std</th>\n",
       "      <td>1.304956e+03</td>\n",
       "      <td>1403.321711</td>\n",
       "      <td>9.037629</td>\n",
       "      <td>8.963671</td>\n",
       "      <td>1.015769</td>\n",
       "      <td>1.455926</td>\n",
       "      <td>4885.600757</td>\n",
       "      <td>0.452491</td>\n",
       "      <td>3.346386</td>\n",
       "      <td>2.462348e+05</td>\n",
       "      <td>3.620132</td>\n",
       "      <td>1.382968</td>\n",
       "    </tr>\n",
       "    <tr>\n",
       "      <th>min</th>\n",
       "      <td>7.000000e+06</td>\n",
       "      <td>1605.000000</td>\n",
       "      <td>2.000000</td>\n",
       "      <td>2.000000</td>\n",
       "      <td>1.000000</td>\n",
       "      <td>1.000000</td>\n",
       "      <td>16009.000000</td>\n",
       "      <td>0.000000</td>\n",
       "      <td>1.000000</td>\n",
       "      <td>1.685360e+05</td>\n",
       "      <td>0.000000</td>\n",
       "      <td>1.000000</td>\n",
       "    </tr>\n",
       "    <tr>\n",
       "      <th>25%</th>\n",
       "      <td>7.001130e+06</td>\n",
       "      <td>3027.750000</td>\n",
       "      <td>7.000000</td>\n",
       "      <td>7.000000</td>\n",
       "      <td>3.000000</td>\n",
       "      <td>2.000000</td>\n",
       "      <td>19683.500000</td>\n",
       "      <td>0.000000</td>\n",
       "      <td>2.000000</td>\n",
       "      <td>4.394432e+05</td>\n",
       "      <td>2.000000</td>\n",
       "      <td>2.000000</td>\n",
       "    </tr>\n",
       "    <tr>\n",
       "      <th>50%</th>\n",
       "      <td>7.002260e+06</td>\n",
       "      <td>3911.500000</td>\n",
       "      <td>13.000000</td>\n",
       "      <td>13.000000</td>\n",
       "      <td>4.000000</td>\n",
       "      <td>4.000000</td>\n",
       "      <td>21606.000000</td>\n",
       "      <td>0.000000</td>\n",
       "      <td>3.000000</td>\n",
       "      <td>5.789765e+05</td>\n",
       "      <td>3.000000</td>\n",
       "      <td>3.000000</td>\n",
       "    </tr>\n",
       "    <tr>\n",
       "      <th>75%</th>\n",
       "      <td>7.003389e+06</td>\n",
       "      <td>4867.250000</td>\n",
       "      <td>20.000000</td>\n",
       "      <td>20.000000</td>\n",
       "      <td>4.000000</td>\n",
       "      <td>5.000000</td>\n",
       "      <td>24725.000000</td>\n",
       "      <td>1.000000</td>\n",
       "      <td>6.000000</td>\n",
       "      <td>7.582360e+05</td>\n",
       "      <td>8.000000</td>\n",
       "      <td>4.000000</td>\n",
       "    </tr>\n",
       "    <tr>\n",
       "      <th>max</th>\n",
       "      <td>7.004519e+06</td>\n",
       "      <td>9608.000000</td>\n",
       "      <td>58.000000</td>\n",
       "      <td>57.000000</td>\n",
       "      <td>6.000000</td>\n",
       "      <td>6.000000</td>\n",
       "      <td>38456.000000</td>\n",
       "      <td>1.000000</td>\n",
       "      <td>25.000000</td>\n",
       "      <td>1.838496e+06</td>\n",
       "      <td>18.000000</td>\n",
       "      <td>5.000000</td>\n",
       "    </tr>\n",
       "  </tbody>\n",
       "</table>\n",
       "</div>"
      ],
      "text/plain": [
       "             CustID   AgentBonus          Age   CustTenure  ExistingProdType  \\\n",
       "count  4.520000e+03  4520.000000  4251.000000  4294.000000       4520.000000   \n",
       "mean   7.002260e+06  4077.838274    14.494707    14.469027          3.688938   \n",
       "std    1.304956e+03  1403.321711     9.037629     8.963671          1.015769   \n",
       "min    7.000000e+06  1605.000000     2.000000     2.000000          1.000000   \n",
       "25%    7.001130e+06  3027.750000     7.000000     7.000000          3.000000   \n",
       "50%    7.002260e+06  3911.500000    13.000000    13.000000          4.000000   \n",
       "75%    7.003389e+06  4867.250000    20.000000    20.000000          4.000000   \n",
       "max    7.004519e+06  9608.000000    58.000000    57.000000          6.000000   \n",
       "\n",
       "       NumberOfPolicy  MonthlyIncome    Complaint  ExistingPolicyTenure  \\\n",
       "count     4475.000000    4284.000000  4520.000000           4336.000000   \n",
       "mean         3.565363   22890.309991     0.287168              4.130074   \n",
       "std          1.455926    4885.600757     0.452491              3.346386   \n",
       "min          1.000000   16009.000000     0.000000              1.000000   \n",
       "25%          2.000000   19683.500000     0.000000              2.000000   \n",
       "50%          4.000000   21606.000000     0.000000              3.000000   \n",
       "75%          5.000000   24725.000000     1.000000              6.000000   \n",
       "max          6.000000   38456.000000     1.000000             25.000000   \n",
       "\n",
       "         SumAssured  LastMonthCalls  CustCareScore  \n",
       "count  4.366000e+03     4520.000000    4468.000000  \n",
       "mean   6.199997e+05        4.626991       3.067592  \n",
       "std    2.462348e+05        3.620132       1.382968  \n",
       "min    1.685360e+05        0.000000       1.000000  \n",
       "25%    4.394432e+05        2.000000       2.000000  \n",
       "50%    5.789765e+05        3.000000       3.000000  \n",
       "75%    7.582360e+05        8.000000       4.000000  \n",
       "max    1.838496e+06       18.000000       5.000000  "
      ]
     },
     "execution_count": 7,
     "metadata": {},
     "output_type": "execute_result"
    }
   ],
   "source": [
    "df.describe()"
   ]
  },
  {
   "cell_type": "code",
   "execution_count": 8,
   "id": "c1a35dea",
   "metadata": {},
   "outputs": [
    {
     "data": {
      "text/plain": [
       "CustID                    0\n",
       "AgentBonus                0\n",
       "Age                     269\n",
       "CustTenure              226\n",
       "Channel                   0\n",
       "Occupation                0\n",
       "EducationField            0\n",
       "Gender                    0\n",
       "ExistingProdType          0\n",
       "Designation               0\n",
       "NumberOfPolicy           45\n",
       "MaritalStatus             0\n",
       "MonthlyIncome           236\n",
       "Complaint                 0\n",
       "ExistingPolicyTenure    184\n",
       "SumAssured              154\n",
       "Zone                      0\n",
       "PaymentMethod             0\n",
       "LastMonthCalls            0\n",
       "CustCareScore            52\n",
       "dtype: int64"
      ]
     },
     "execution_count": 8,
     "metadata": {},
     "output_type": "execute_result"
    }
   ],
   "source": [
    "df.isnull().sum()"
   ]
  },
  {
   "cell_type": "code",
   "execution_count": 9,
   "id": "57bdd180",
   "metadata": {},
   "outputs": [],
   "source": [
    "df['Occupation'] = df['Occupation'].replace(['Laarge Business'],'Large Business')"
   ]
  },
  {
   "cell_type": "code",
   "execution_count": 10,
   "id": "6727a461",
   "metadata": {},
   "outputs": [],
   "source": [
    "occi = df.Occupation.value_counts().index\n",
    "occv=  df.Occupation.value_counts().values"
   ]
  },
  {
   "cell_type": "code",
   "execution_count": 11,
   "id": "29eee3b8",
   "metadata": {},
   "outputs": [
    {
     "data": {
      "text/plain": [
       "([<matplotlib.patches.Wedge at 0x1ce66d236d0>,\n",
       "  <matplotlib.patches.Wedge at 0x1ce66d23c10>,\n",
       "  <matplotlib.patches.Wedge at 0x1ce66d52370>,\n",
       "  <matplotlib.patches.Wedge at 0x1ce66d52a90>],\n",
       " [Text(0.05196981542547788, 1.0987716497455884, 'Salaried'),\n",
       "  Text(-0.3587674324817016, -1.0398489935517021, 'Small Business'),\n",
       "  Text(1.055207004938848, -0.3107059328818591, 'Large Business'),\n",
       "  Text(1.0999989373132586, -0.0015290224661296794, 'Free Lancer')],\n",
       " [Text(0.028347172050260654, 0.5993299907703209, '48.5%'),\n",
       "  Text(-0.19569132680820087, -0.5671903601191102, '42.4%'),\n",
       "  Text(0.5755674572393715, -0.16947596339010493, '9.0%'),\n",
       "  Text(0.5999994203526864, -0.0008340122542525524, '0.0%')])"
      ]
     },
     "execution_count": 11,
     "metadata": {},
     "output_type": "execute_result"
    },
    {
     "data": {
      "image/png": "[encoded data removed]",
      "text/plain": [
       "<Figure size 432x288 with 1 Axes>"
      ]
     },
     "metadata": {},
     "output_type": "display_data"
    }
   ],
   "source": [
    "colors = sns.color_palette('colorblind')[0:5]\n",
    "plt.pie(occv,labels=occi,colors=colors,autopct=\"%1.1f%%\")\n"
   ]
  },
  {
   "cell_type": "code",
   "execution_count": 12,
   "id": "ed72d108",
   "metadata": {},
   "outputs": [
    {
     "data": {
      "text/plain": [
       "([<matplotlib.patches.Wedge at 0x1ce66e30580>,\n",
       "  <matplotlib.patches.Wedge at 0x1ce66e30d00>,\n",
       "  <matplotlib.patches.Wedge at 0x1ce66e3b460>,\n",
       "  <matplotlib.patches.Wedge at 0x1ce66e3bb80>],\n",
       " [Text(-0.006116304917548162, 1.0999829956931861, 'Married'),\n",
       "  Text(-0.698571147593618, -0.8497048615547258, 'Single'),\n",
       "  Text(0.7435874950182322, -0.8106032551455186, 'Divorced'),\n",
       "  Text(1.0900153835310562, -0.1478731336844017, 'Unmarried')],\n",
       " [Text(-0.003336166318662634, 0.599990724923556, '50.18%'),\n",
       "  Text(-0.38103880777833704, -0.46347537902985037, '27.74%'),\n",
       "  Text(0.40559317910085385, -0.44214723007937373, '17.79%'),\n",
       "  Text(0.5945538455623942, -0.08065807291876455, '4.29%')])"
      ]
     },
     "execution_count": 12,
     "metadata": {},
     "output_type": "execute_result"
    },
    {
     "data": {
      "image/png": "[encoded data removed]",
      "text/plain": [
       "<Figure size 432x288 with 1 Axes>"
      ]
     },
     "metadata": {},
     "output_type": "display_data"
    }
   ],
   "source": [
    "Maritali=df.MaritalStatus.value_counts().index\n",
    "Maritalv=df.MaritalStatus.value_counts().values\n",
    "colors = sns.color_palette('colorblind')[0:5]\n",
    "plt.pie(Maritalv,labels=Maritali,colors=colors,autopct=\"%1.2f%%\")\n"
   ]
  },
  {
   "cell_type": "code",
   "execution_count": 13,
   "id": "0b20ab17",
   "metadata": {},
   "outputs": [],
   "source": [
    "df['EducationField'] = df['EducationField'].replace(['UG'],'Under Graduate')\n",
    "df['EducationField'] = df['EducationField'].replace(['Post Graduate'],'Graduate')"
   ]
  },
  {
   "cell_type": "code",
   "execution_count": 14,
   "id": "8855ad96",
   "metadata": {},
   "outputs": [
    {
     "data": {
      "text/plain": [
       "([<matplotlib.patches.Wedge at 0x1ce66e58c10>,\n",
       "  <matplotlib.patches.Wedge at 0x1ce66dec3d0>,\n",
       "  <matplotlib.patches.Wedge at 0x1ce66decaf0>,\n",
       "  <matplotlib.patches.Wedge at 0x1ce66df7250>,\n",
       "  <matplotlib.patches.Wedge at 0x1ce66df7970>],\n",
       " [Text(0.1053457204497953, 1.094943961663296, 'Graduate'),\n",
       "  Text(-0.7702120286092035, -0.7853492414115492, 'Under Graduate'),\n",
       "  Text(0.5806042396381572, -0.9342904885067586, 'Diploma'),\n",
       "  Text(1.0188808712564537, -0.41458626386759395, 'Engineer'),\n",
       "  Text(1.0985453780119598, -0.056551325789592495, 'MBA')],\n",
       " [Text(0.057461302063524705, 0.5972421609072524, '46.95%'),\n",
       "  Text(-0.42011565196865636, -0.42837231349720856, '31.42%'),\n",
       "  Text(0.316693221620813, -0.5096129937309591, '10.97%'),\n",
       "  Text(0.5557532025035201, -0.22613796210959666, '9.03%'),\n",
       "  Text(0.5992065698247052, -0.030846177703414086, '1.64%')])"
      ]
     },
     "execution_count": 14,
     "metadata": {},
     "output_type": "execute_result"
    },
    {
     "data": {
      "image/png": "[encoded data removed]",
      "text/plain": [
       "<Figure size 432x288 with 1 Axes>"
      ]
     },
     "metadata": {},
     "output_type": "display_data"
    }
   ],
   "source": [
    "Edui=df.EducationField.value_counts().index\n",
    "Eduv=df.EducationField.value_counts().values\n",
    "colors = sns.color_palette('colorblind')[0:5]\n",
    "plt.pie(Eduv,labels=Edui,colors=colors,autopct=\"%1.2f%%\")"
   ]
  },
  {
   "cell_type": "code",
   "execution_count": 15,
   "id": "795a9165",
   "metadata": {},
   "outputs": [],
   "source": [
    "df['Gender'] = df['Gender'].replace(['Fe male'],'Female')"
   ]
  },
  {
   "cell_type": "code",
   "execution_count": 16,
   "id": "8fdc6e97",
   "metadata": {},
   "outputs": [
    {
     "data": {
      "text/plain": [
       "([<matplotlib.patches.Wedge at 0x1ce674c4370>,\n",
       "  <matplotlib.patches.Wedge at 0x1ce674c4b20>],\n",
       " [Text(-0.3224211494708721, 1.0516865513896627, 'Male'),\n",
       "  Text(0.32242114947087214, -1.0516865513896627, 'Female')],\n",
       " [Text(-0.1758660815295666, 0.5736472098489069, '59.47%'),\n",
       "  Text(0.17586608152956662, -0.5736472098489068, '40.53%')])"
      ]
     },
     "execution_count": 16,
     "metadata": {},
     "output_type": "execute_result"
    },
    {
     "data": {
      "image/png": "[encoded data removed]",
      "text/plain": [
       "<Figure size 432x288 with 1 Axes>"
      ]
     },
     "metadata": {},
     "output_type": "display_data"
    }
   ],
   "source": [
    "Genderi=df.Gender.value_counts().index\n",
    "Genderv=df.Gender.value_counts().values\n",
    "\n",
    "colors = sns.color_palette('colorblind')[0:5]\n",
    "plt.pie(Genderv,labels=Genderi,colors=colors,autopct=\"%1.2f%%\")"
   ]
  },
  {
   "cell_type": "code",
   "execution_count": 17,
   "id": "3435db0a",
   "metadata": {},
   "outputs": [
    {
     "name": "stderr",
     "output_type": "stream",
     "text": [
      "C:\\Users\\HP\\anaconda3\\lib\\site-packages\\seaborn\\_decorators.py:36: FutureWarning: Pass the following variables as keyword args: x, y. From version 0.12, the only valid positional argument will be `data`, and passing other arguments without an explicit keyword will result in an error or misinterpretation.\n",
      "  warnings.warn(\n"
     ]
    },
    {
     "data": {
      "image/png": "[encoded data removed]",
      "text/plain": [
       "<Figure size 648x432 with 1 Axes>"
      ]
     },
     "metadata": {
      "needs_background": "light"
     },
     "output_type": "display_data"
    }
   ],
   "source": [
    "plt.figure(figsize=(9,6)) \n",
    "Desi=df.Designation.value_counts().index\n",
    "Desv=df.Designation.value_counts().values\n",
    "\n",
    "sns.barplot( Desi,Desv)\n",
    "\n",
    "plt.show()"
   ]
  },
  {
   "cell_type": "code",
   "execution_count": 18,
   "id": "51b94481",
   "metadata": {},
   "outputs": [
    {
     "name": "stderr",
     "output_type": "stream",
     "text": [
      "C:\\Users\\HP\\anaconda3\\lib\\site-packages\\seaborn\\_decorators.py:36: FutureWarning: Pass the following variables as keyword args: x, y. From version 0.12, the only valid positional argument will be `data`, and passing other arguments without an explicit keyword will result in an error or misinterpretation.\n",
      "  warnings.warn(\n"
     ]
    },
    {
     "data": {
      "image/png": "[encoded data removed]",
      "text/plain": [
       "<Figure size 648x432 with 1 Axes>"
      ]
     },
     "metadata": {
      "needs_background": "light"
     },
     "output_type": "display_data"
    }
   ],
   "source": [
    "plt.figure(figsize=(9,6)) \n",
    "Chai=df.Channel.value_counts().index\n",
    "Chav=df.Channel.value_counts().values\n",
    "\n",
    "sns.barplot( Chai,Chav)\n",
    "\n",
    "plt.show()"
   ]
  },
  {
   "cell_type": "code",
   "execution_count": 19,
   "id": "3281352f",
   "metadata": {},
   "outputs": [
    {
     "name": "stderr",
     "output_type": "stream",
     "text": [
      "C:\\Users\\HP\\anaconda3\\lib\\site-packages\\seaborn\\_decorators.py:36: FutureWarning: Pass the following variables as keyword args: x, y. From version 0.12, the only valid positional argument will be `data`, and passing other arguments without an explicit keyword will result in an error or misinterpretation.\n",
      "  warnings.warn(\n"
     ]
    },
    {
     "data": {
      "image/png": "[encoded data removed]",
      "text/plain": [
       "<Figure size 1440x432 with 1 Axes>"
      ]
     },
     "metadata": {
      "needs_background": "light"
     },
     "output_type": "display_data"
    }
   ],
   "source": [
    "plt.figure(figsize=(20,6)) \n",
    "Agei=df.Age.value_counts().index\n",
    "Agev=df.Age.value_counts().values\n",
    "\n",
    "sns.barplot( Agei,Agev)\n",
    "\n",
    "plt.show()"
   ]
  },
  {
   "cell_type": "code",
   "execution_count": 20,
   "id": "40e472f9",
   "metadata": {},
   "outputs": [
    {
     "data": {
      "text/plain": [
       "([<matplotlib.patches.Wedge at 0x1ce6782c070>,\n",
       "  <matplotlib.patches.Wedge at 0x1ce6782c5e0>,\n",
       "  <matplotlib.patches.Wedge at 0x1ce6782cd00>,\n",
       "  <matplotlib.patches.Wedge at 0x1ce67837460>],\n",
       " [Text(-0.2321916345633785, 1.0752148830995536, 'West'),\n",
       "  Text(0.17962512938806055, -1.085234911386619, 'North'),\n",
       "  Text(1.0984656978474958, -0.05807848700176465, 'East'),\n",
       "  Text(1.099990435187429, -0.004587210063950333, 'South')],\n",
       " [Text(-0.12664998248911552, 0.5864808453270292, '56.77%'),\n",
       "  Text(0.09797734330257847, -0.5919463153017921, '41.68%'),\n",
       "  Text(0.5991631079168158, -0.03167917472823526, '1.42%'),\n",
       "  Text(0.5999947828295066, -0.0025021145803365455, '0.13%')])"
      ]
     },
     "execution_count": 20,
     "metadata": {},
     "output_type": "execute_result"
    },
    {
     "data": {
      "image/png": "[encoded data removed]",
      "text/plain": [
       "<Figure size 1440x432 with 1 Axes>"
      ]
     },
     "metadata": {},
     "output_type": "display_data"
    }
   ],
   "source": [
    "zoni = df.Zone.value_counts().index\n",
    "zonv=  df.Zone.value_counts().values\n",
    "colors = sns.color_palette('colorblind')[0:5]\n",
    "plt.figure(figsize=(20,6)) \n",
    "plt.pie(zonv,labels=zoni,colors=colors,autopct=\"%1.2f%%\")\n"
   ]
  },
  {
   "cell_type": "markdown",
   "id": "5e93ac29",
   "metadata": {},
   "source": [
    "## Univariate Analysis"
   ]
  },
  {
   "cell_type": "code",
   "execution_count": 21,
   "id": "3b345e54",
   "metadata": {},
   "outputs": [],
   "source": [
    "df_male=df.loc[df['Gender']=='Male']\n",
    "df_female=df.loc[df['Gender']=='Female']\n"
   ]
  },
  {
   "cell_type": "code",
   "execution_count": null,
   "id": "a32c784e",
   "metadata": {},
   "outputs": [],
   "source": []
  },
  {
   "cell_type": "code",
   "execution_count": 22,
   "id": "9b9d27b6",
   "metadata": {},
   "outputs": [],
   "source": [
    "df['NumberOfPolicy'] = df['NumberOfPolicy'].fillna(0)\n"
   ]
  },
  {
   "cell_type": "code",
   "execution_count": 23,
   "id": "2fe07207",
   "metadata": {},
   "outputs": [
    {
     "name": "stderr",
     "output_type": "stream",
     "text": [
      "C:\\Users\\HP\\anaconda3\\lib\\site-packages\\seaborn\\_decorators.py:36: FutureWarning: Pass the following variables as keyword args: x, y. From version 0.12, the only valid positional argument will be `data`, and passing other arguments without an explicit keyword will result in an error or misinterpretation.\n",
      "  warnings.warn(\n"
     ]
    },
    {
     "data": {
      "text/plain": [
       "<AxesSubplot:>"
      ]
     },
     "execution_count": 23,
     "metadata": {},
     "output_type": "execute_result"
    },
    {
     "data": {
      "image/png": "[encoded data removed]",
      "text/plain": [
       "<Figure size 432x288 with 1 Axes>"
      ]
     },
     "metadata": {
      "needs_background": "light"
     },
     "output_type": "display_data"
    }
   ],
   "source": [
    "sns.barplot(['Male','Female'],[df_male['NumberOfPolicy'].sum(),df_female['NumberOfPolicy'].sum()])\n"
   ]
  },
  {
   "cell_type": "code",
   "execution_count": 24,
   "id": "47a9166b",
   "metadata": {},
   "outputs": [
    {
     "name": "stderr",
     "output_type": "stream",
     "text": [
      "C:\\Users\\HP\\anaconda3\\lib\\site-packages\\seaborn\\_decorators.py:36: FutureWarning: Pass the following variables as keyword args: x, y. From version 0.12, the only valid positional argument will be `data`, and passing other arguments without an explicit keyword will result in an error or misinterpretation.\n",
      "  warnings.warn(\n"
     ]
    },
    {
     "data": {
      "text/plain": [
       "<AxesSubplot:>"
      ]
     },
     "execution_count": 24,
     "metadata": {},
     "output_type": "execute_result"
    },
    {
     "data": {
      "image/png": "[encoded data removed]",
      "text/plain": [
       "<Figure size 432x288 with 1 Axes>"
      ]
     },
     "metadata": {
      "needs_background": "light"
     },
     "output_type": "display_data"
    }
   ],
   "source": [
    "df_East=df.loc[df['Zone']=='East']\n",
    "df_West=df.loc[df['Zone']=='West']\n",
    "df_North=df.loc[df['Zone']=='North']\n",
    "df_South=df.loc[df['Zone']=='South']\n",
    "sns.barplot(['East','West','North','South'],[df_East['NumberOfPolicy'].sum(),df_West['NumberOfPolicy'].sum(),df_North['NumberOfPolicy'].sum(),df_South['NumberOfPolicy'].sum()])\n",
    "\n"
   ]
  },
  {
   "cell_type": "code",
   "execution_count": 25,
   "id": "d002cc07",
   "metadata": {},
   "outputs": [
    {
     "name": "stderr",
     "output_type": "stream",
     "text": [
      "C:\\Users\\HP\\anaconda3\\lib\\site-packages\\seaborn\\_decorators.py:36: FutureWarning: Pass the following variables as keyword args: x, y. From version 0.12, the only valid positional argument will be `data`, and passing other arguments without an explicit keyword will result in an error or misinterpretation.\n",
      "  warnings.warn(\n"
     ]
    },
    {
     "data": {
      "text/plain": [
       "<AxesSubplot:>"
      ]
     },
     "execution_count": 25,
     "metadata": {},
     "output_type": "execute_result"
    },
    {
     "data": {
      "image/png": "[encoded data removed]",
      "text/plain": [
       "<Figure size 432x288 with 1 Axes>"
      ]
     },
     "metadata": {
      "needs_background": "light"
     },
     "output_type": "display_data"
    }
   ],
   "source": [
    "df_Married=df.loc[df['MaritalStatus']=='Married']\n",
    "df_Single=df.loc[df['MaritalStatus']=='Single']\n",
    "df_Unmarried=df.loc[df['MaritalStatus']=='Unmarried']\n",
    "df_Divorced=df.loc[df['MaritalStatus']=='Divorced']\n",
    "# plt.plot(df_Married['NumberOfPolicy'],np.ones_like(df_Married['NumberOfPolicy'])*0,'o')\n",
    "# plt.plot(df_Single['NumberOfPolicy'],np.ones_like(df_Single['NumberOfPolicy'])*1,'o')\n",
    "# plt.plot(df_Unmarried['NumberOfPolicy'],np.ones_like(df_Unmarried['NumberOfPolicy'])*2,'o')\n",
    "# plt.plot(df_Divorced['NumberOfPolicy'],np.ones_like(df_Divorced['NumberOfPolicy'])*3,'o')\n",
    "# plt.show()\n",
    "sns.barplot(['Married','Divorced','Unmarried','Single'],[df_Married['NumberOfPolicy'].sum(),df_Divorced['NumberOfPolicy'].sum(),df_Unmarried['NumberOfPolicy'].sum(),df_Single['NumberOfPolicy'].sum()])\n"
   ]
  },
  {
   "cell_type": "markdown",
   "id": "935300df",
   "metadata": {},
   "source": [
    "# "
   ]
  },
  {
   "cell_type": "code",
   "execution_count": 26,
   "id": "fa7f1da2",
   "metadata": {},
   "outputs": [
    {
     "data": {
      "text/plain": [
       "array(['Agent', 'Third Party Partner', 'Online'], dtype=object)"
      ]
     },
     "execution_count": 26,
     "metadata": {},
     "output_type": "execute_result"
    }
   ],
   "source": [
    "df['Channel'].unique()"
   ]
  },
  {
   "cell_type": "code",
   "execution_count": 27,
   "id": "fe15e199",
   "metadata": {},
   "outputs": [
    {
     "name": "stderr",
     "output_type": "stream",
     "text": [
      "C:\\Users\\HP\\anaconda3\\lib\\site-packages\\seaborn\\_decorators.py:36: FutureWarning: Pass the following variables as keyword args: x, y. From version 0.12, the only valid positional argument will be `data`, and passing other arguments without an explicit keyword will result in an error or misinterpretation.\n",
      "  warnings.warn(\n"
     ]
    },
    {
     "data": {
      "text/plain": [
       "<AxesSubplot:>"
      ]
     },
     "execution_count": 27,
     "metadata": {},
     "output_type": "execute_result"
    },
    {
     "data": {
      "image/png": "[encoded data removed]",
      "text/plain": [
       "<Figure size 432x288 with 1 Axes>"
      ]
     },
     "metadata": {
      "needs_background": "light"
     },
     "output_type": "display_data"
    }
   ],
   "source": [
    "df_Agent=df.loc[df['Channel']=='Agent']\n",
    "df_Third=df.loc[df['Channel']=='Third Party']\n",
    "df_Online=df.loc[df['Channel']=='Online']\n",
    "sns.barplot(['Agent','Third Party','Onine'],[df_Agent['NumberOfPolicy'].sum(),df_Third['NumberOfPolicy'].sum(),df_Online['NumberOfPolicy'].sum()])\n",
    "\n"
   ]
  },
  {
   "cell_type": "code",
   "execution_count": 28,
   "id": "2dbd074a",
   "metadata": {},
   "outputs": [
    {
     "data": {
      "text/plain": [
       "array(['Salaried', 'Free Lancer', 'Small Business', 'Large Business'],\n",
       "      dtype=object)"
      ]
     },
     "execution_count": 28,
     "metadata": {},
     "output_type": "execute_result"
    }
   ],
   "source": [
    "df['Occupation'].unique()"
   ]
  },
  {
   "cell_type": "code",
   "execution_count": 29,
   "id": "47bf429b",
   "metadata": {},
   "outputs": [
    {
     "name": "stderr",
     "output_type": "stream",
     "text": [
      "C:\\Users\\HP\\anaconda3\\lib\\site-packages\\seaborn\\_decorators.py:36: FutureWarning: Pass the following variables as keyword args: x, y. From version 0.12, the only valid positional argument will be `data`, and passing other arguments without an explicit keyword will result in an error or misinterpretation.\n",
      "  warnings.warn(\n"
     ]
    },
    {
     "data": {
      "text/plain": [
       "<AxesSubplot:>"
      ]
     },
     "execution_count": 29,
     "metadata": {},
     "output_type": "execute_result"
    },
    {
     "data": {
      "image/png": "[encoded data removed]",
      "text/plain": [
       "<Figure size 432x288 with 1 Axes>"
      ]
     },
     "metadata": {
      "needs_background": "light"
     },
     "output_type": "display_data"
    }
   ],
   "source": [
    "df_Sal=df.loc[df['Occupation']=='Salaried']\n",
    "df_Free=df.loc[df['Occupation']=='Free Lancer']\n",
    "df_Sml=df.loc[df['Occupation']=='Small Business']\n",
    "df_Lrg=df.loc[df['Occupation']=='Large Business']\n",
    "sns.barplot(['Salaried', 'Free Lancer', 'Small Business', 'Large Business'],[df_Sal['NumberOfPolicy'].sum(),df_Free['NumberOfPolicy'].sum(),df_Sml['NumberOfPolicy'].sum(),df_Lrg['NumberOfPolicy'].sum()])\n",
    "\n"
   ]
  },
  {
   "cell_type": "code",
   "execution_count": 30,
   "id": "b88fe15b",
   "metadata": {},
   "outputs": [
    {
     "data": {
      "text/plain": [
       "array(['Manager', 'Exe', 'Executive', 'VP', 'AVP', 'Senior Manager'],\n",
       "      dtype=object)"
      ]
     },
     "execution_count": 30,
     "metadata": {},
     "output_type": "execute_result"
    }
   ],
   "source": [
    "df['Designation'].unique()"
   ]
  },
  {
   "cell_type": "code",
   "execution_count": 31,
   "id": "8eba0a30",
   "metadata": {},
   "outputs": [
    {
     "name": "stderr",
     "output_type": "stream",
     "text": [
      "C:\\Users\\HP\\anaconda3\\lib\\site-packages\\seaborn\\_decorators.py:36: FutureWarning: Pass the following variables as keyword args: x, y. From version 0.12, the only valid positional argument will be `data`, and passing other arguments without an explicit keyword will result in an error or misinterpretation.\n",
      "  warnings.warn(\n"
     ]
    },
    {
     "data": {
      "text/plain": [
       "<AxesSubplot:>"
      ]
     },
     "execution_count": 31,
     "metadata": {},
     "output_type": "execute_result"
    },
    {
     "data": {
      "image/png": "[encoded data removed]",
      "text/plain": [
       "<Figure size 432x288 with 1 Axes>"
      ]
     },
     "metadata": {
      "needs_background": "light"
     },
     "output_type": "display_data"
    }
   ],
   "source": [
    "df_Man=df.loc[df['Designation']=='Manager']\n",
    "df_Exe=df.loc[df['Designation']=='Exe']\n",
    "df_Ec=df.loc[df['Designation']=='Executive']\n",
    "df_VP=df.loc[df['Designation']=='VP']\n",
    "df_AVP=df.loc[df['Designation']=='AVP']\n",
    "df_Sen=df.loc[df['Designation']=='Senior Manager']\n",
    "sns.barplot(['Manager', 'Exe', 'Executive', 'VP', 'AVP', 'Senior Manager'],[df_Man['NumberOfPolicy'].sum(),df_Exe['NumberOfPolicy'].sum(),df_Ec['NumberOfPolicy'].sum(),df_VP['NumberOfPolicy'].sum(),df_AVP['NumberOfPolicy'].sum(),df_Sen['NumberOfPolicy'].sum()])\n",
    "\n"
   ]
  },
  {
   "cell_type": "markdown",
   "id": "1d591657",
   "metadata": {},
   "source": [
    "## Bivariate Analysis\n"
   ]
  },
  {
   "cell_type": "code",
   "execution_count": 32,
   "id": "1d1d7d97",
   "metadata": {},
   "outputs": [
    {
     "data": {
      "text/plain": [
       "Index(['CustID', 'AgentBonus', 'Age', 'CustTenure', 'Channel', 'Occupation',\n",
       "       'EducationField', 'Gender', 'ExistingProdType', 'Designation',\n",
       "       'NumberOfPolicy', 'MaritalStatus', 'MonthlyIncome', 'Complaint',\n",
       "       'ExistingPolicyTenure', 'SumAssured', 'Zone', 'PaymentMethod',\n",
       "       'LastMonthCalls', 'CustCareScore'],\n",
       "      dtype='object')"
      ]
     },
     "execution_count": 32,
     "metadata": {},
     "output_type": "execute_result"
    }
   ],
   "source": [
    "df.columns"
   ]
  },
  {
   "cell_type": "code",
   "execution_count": 33,
   "id": "07f9ac28",
   "metadata": {},
   "outputs": [
    {
     "name": "stderr",
     "output_type": "stream",
     "text": [
      "C:\\Users\\HP\\anaconda3\\lib\\site-packages\\seaborn\\axisgrid.py:337: UserWarning: The `size` parameter has been renamed to `height`; please update your code.\n",
      "  warnings.warn(msg, UserWarning)\n"
     ]
    },
    {
     "data": {
      "text/plain": [
       "<seaborn.axisgrid.FacetGrid at 0x1ce674e46d0>"
      ]
     },
     "execution_count": 33,
     "metadata": {},
     "output_type": "execute_result"
    },
    {
     "data": {
      "image/png": "[encoded data removed]",
      "text/plain": [
       "<Figure size 584x576 with 1 Axes>"
      ]
     },
     "metadata": {
      "needs_background": "light"
     },
     "output_type": "display_data"
    }
   ],
   "source": [
    "sns.FacetGrid(df,size=8).map(plt.scatter,\"AgentBonus\",\"SumAssured\").add_legend()"
   ]
  },
  {
   "cell_type": "code",
   "execution_count": 34,
   "id": "85412bf9",
   "metadata": {},
   "outputs": [
    {
     "name": "stderr",
     "output_type": "stream",
     "text": [
      "C:\\Users\\HP\\anaconda3\\lib\\site-packages\\seaborn\\axisgrid.py:337: UserWarning: The `size` parameter has been renamed to `height`; please update your code.\n",
      "  warnings.warn(msg, UserWarning)\n"
     ]
    },
    {
     "data": {
      "text/plain": [
       "<seaborn.axisgrid.FacetGrid at 0x1ce677d2670>"
      ]
     },
     "execution_count": 34,
     "metadata": {},
     "output_type": "execute_result"
    },
    {
     "data": {
      "image/png": "[encoded data removed]",
      "text/plain": [
       "<Figure size 584x576 with 1 Axes>"
      ]
     },
     "metadata": {
      "needs_background": "light"
     },
     "output_type": "display_data"
    }
   ],
   "source": [
    "sns.FacetGrid(df,size=8).map(plt.scatter,\"MonthlyIncome\",\"SumAssured\").add_legend()"
   ]
  },
  {
   "cell_type": "code",
   "execution_count": 35,
   "id": "ef380b37",
   "metadata": {},
   "outputs": [
    {
     "data": {
      "text/plain": [
       "array([22., 11., 26.,  6.,  7., 12.,  8., 20., 18., 10.,  9.,  5., nan,\n",
       "       30., 14., 16., 13.,  2.,  4., 15., 27., 23., 37., 33., 19., 17.,\n",
       "       25., 21., 24., 29., 47., 31., 28.,  3., 46., 40., 51., 35., 32.,\n",
       "       34., 42., 39., 38., 41., 52., 36., 43., 50., 44., 53., 58., 54.,\n",
       "       57., 48.])"
      ]
     },
     "execution_count": 35,
     "metadata": {},
     "output_type": "execute_result"
    }
   ],
   "source": [
    "df['Age'].unique()"
   ]
  },
  {
   "cell_type": "code",
   "execution_count": 36,
   "id": "a900ffa8",
   "metadata": {},
   "outputs": [
    {
     "name": "stderr",
     "output_type": "stream",
     "text": [
      "C:\\Users\\HP\\anaconda3\\lib\\site-packages\\seaborn\\axisgrid.py:337: UserWarning: The `size` parameter has been renamed to `height`; please update your code.\n",
      "  warnings.warn(msg, UserWarning)\n"
     ]
    },
    {
     "data": {
      "text/plain": [
       "<seaborn.axisgrid.FacetGrid at 0x1ce67751af0>"
      ]
     },
     "execution_count": 36,
     "metadata": {},
     "output_type": "execute_result"
    },
    {
     "data": {
      "image/png": "[encoded data removed]",
      "text/plain": [
       "<Figure size 584x576 with 1 Axes>"
      ]
     },
     "metadata": {
      "needs_background": "light"
     },
     "output_type": "display_data"
    }
   ],
   "source": [
    "#df = df.dropna(subset=['Age'])\n",
    "m=df[['Age']].mean(axis=1)\n",
    "df['Age'] = df['Age'].fillna(m)\n",
    "sns.FacetGrid(df,size=8).map(plt.scatter,\"MonthlyIncome\",\"Age\").add_legend()\n",
    "\n"
   ]
  },
  {
   "cell_type": "markdown",
   "id": "275ee865",
   "metadata": {},
   "source": [
    "## Outlier"
   ]
  },
  {
   "cell_type": "code",
   "execution_count": 37,
   "id": "95b6f827",
   "metadata": {},
   "outputs": [],
   "source": [
    "def detect(data):\n",
    "    threshold=3\n",
    "    outliers=[]\n",
    "    mean=np.mean(data)\n",
    "    std=np.std(data)\n",
    "    for i in data:\n",
    "        z_score=(i-mean)/std\n",
    "        if np.abs(z_score) > threshold :\n",
    "            outliers.append(i)\n",
    "    return outliers\n"
   ]
  },
  {
   "cell_type": "code",
   "execution_count": 38,
   "id": "cec7f3fd",
   "metadata": {},
   "outputs": [
    {
     "data": {
      "text/plain": [
       "[8549,\n",
       " 8743,\n",
       " 8679,\n",
       " 8583,\n",
       " 8291,\n",
       " 8551,\n",
       " 8325,\n",
       " 8743,\n",
       " 8428,\n",
       " 9494,\n",
       " 8909,\n",
       " 8708,\n",
       " 8521,\n",
       " 9490,\n",
       " 8771,\n",
       " 8318,\n",
       " 8813,\n",
       " 9426,\n",
       " 9608,\n",
       " 9192,\n",
       " 9047,\n",
       " 8759,\n",
       " 9600,\n",
       " 9009,\n",
       " 8785,\n",
       " 9181,\n",
       " 9312,\n",
       " 8427,\n",
       " 8764,\n",
       " 8895,\n",
       " 9540,\n",
       " 8756,\n",
       " 8380,\n",
       " 8579,\n",
       " 8650,\n",
       " 8822,\n",
       " 8763,\n",
       " 8353,\n",
       " 9608,\n",
       " 9521,\n",
       " 9140]"
      ]
     },
     "execution_count": 38,
     "metadata": {},
     "output_type": "execute_result"
    }
   ],
   "source": [
    "x=detect(df['AgentBonus'])\n",
    "x"
   ]
  },
  {
   "cell_type": "code",
   "execution_count": 39,
   "id": "bbe91c5b",
   "metadata": {},
   "outputs": [
    {
     "data": {
      "text/plain": [
       "[1372096.0,\n",
       " 1492946.0,\n",
       " 1416407.0,\n",
       " 1385080.0,\n",
       " 1488196.0,\n",
       " 1452930.0,\n",
       " 1454216.0,\n",
       " 1363322.0,\n",
       " 1533645.0,\n",
       " 1559383.0,\n",
       " 1464775.0,\n",
       " 1464838.0,\n",
       " 1397544.0,\n",
       " 1371954.0,\n",
       " 1400708.0,\n",
       " 1533851.0,\n",
       " 1385721.0,\n",
       " 1756298.0,\n",
       " 1558820.0,\n",
       " 1539169.0,\n",
       " 1364451.0,\n",
       " 1423463.0,\n",
       " 1370717.0,\n",
       " 1538784.0,\n",
       " 1612720.0,\n",
       " 1493292.0,\n",
       " 1410768.0,\n",
       " 1604453.0,\n",
       " 1838496.0,\n",
       " 1664567.0,\n",
       " 1427769.0,\n",
       " 1737600.0,\n",
       " 1721921.0,\n",
       " 1392767.0,\n",
       " 1365029.0,\n",
       " 1488537.0,\n",
       " 1361250.0,\n",
       " 1362864.0,\n",
       " 1401707.0,\n",
       " 1544261.0,\n",
       " 1407505.0,\n",
       " 1368118.0,\n",
       " 1385532.0,\n",
       " 1409233.0,\n",
       " 1524762.0,\n",
       " 1542873.0,\n",
       " 1642883.0,\n",
       " 1818844.0,\n",
       " 1444065.0,\n",
       " 1573268.0,\n",
       " 1389565.0,\n",
       " 1464342.0]"
      ]
     },
     "execution_count": 39,
     "metadata": {},
     "output_type": "execute_result"
    }
   ],
   "source": [
    "x=detect(df['SumAssured'])\n",
    "x"
   ]
  },
  {
   "cell_type": "code",
   "execution_count": 40,
   "id": "db8d3302",
   "metadata": {},
   "outputs": [
    {
     "data": {
      "text/plain": [
       "[47.0,\n",
       " 46.0,\n",
       " 51.0,\n",
       " 46.0,\n",
       " 42.0,\n",
       " 52.0,\n",
       " 43.0,\n",
       " 43.0,\n",
       " 50.0,\n",
       " 42.0,\n",
       " 42.0,\n",
       " 43.0,\n",
       " 43.0,\n",
       " 43.0,\n",
       " 44.0,\n",
       " 42.0,\n",
       " 43.0,\n",
       " 44.0,\n",
       " 42.0,\n",
       " 53.0,\n",
       " 58.0,\n",
       " 44.0,\n",
       " 54.0,\n",
       " 53.0,\n",
       " 46.0,\n",
       " 47.0,\n",
       " 43.0,\n",
       " 57.0,\n",
       " 43.0,\n",
       " 47.0,\n",
       " 42.0,\n",
       " 44.0,\n",
       " 42.0,\n",
       " 46.0,\n",
       " 58.0,\n",
       " 57.0,\n",
       " 48.0]"
      ]
     },
     "execution_count": 40,
     "metadata": {},
     "output_type": "execute_result"
    }
   ],
   "source": [
    "x=detect(df['Age'])\n",
    "x"
   ]
  },
  {
   "cell_type": "code",
   "execution_count": 42,
   "id": "21fd74c4",
   "metadata": {},
   "outputs": [
    {
     "data": {
      "image/png": "[encoded data removed]",
      "text/plain": [
       "<Figure size 1440x576 with 1 Axes>"
      ]
     },
     "metadata": {
      "needs_background": "light"
     },
     "output_type": "display_data"
    }
   ],
   "source": [
    "plt.figure(figsize=(20,8))\n",
    "df.boxplot()\n",
    "plt.show()"
   ]
  },
  {
   "cell_type": "code",
   "execution_count": 47,
   "id": "3013e1bc",
   "metadata": {},
   "outputs": [],
   "source": [
    "def outlier_limits(col):\n",
    "    Q3,Q1=np.nanpercentile(col,[75,25])\n",
    "    IQR=Q3-Q1\n",
    "    UL=Q3+1.5*IQR\n",
    "    LL=Q1-1.5*IQR\n",
    "    return UL,LL\n"
   ]
  },
  {
   "cell_type": "code",
   "execution_count": 50,
   "id": "da316c72",
   "metadata": {},
   "outputs": [],
   "source": [
    "UL,LL = outlier_limits(df['SumAssured'])\n",
    "df['SumAssured']=np.where((df['SumAssured']>UL),UL,df['SumAssured'])\n",
    "df['SumAssured']=np.where((df['SumAssured']<LL),LL,df['SumAssured'])\n"
   ]
  },
  {
   "cell_type": "code",
   "execution_count": 49,
   "id": "915dc76b",
   "metadata": {},
   "outputs": [
    {
     "data": {
      "image/png": "[encoded data removed]",
      "text/plain": [
       "<Figure size 1440x576 with 1 Axes>"
      ]
     },
     "metadata": {
      "needs_background": "light"
     },
     "output_type": "display_data"
    }
   ],
   "source": [
    "plt.figure(figsize=(20,8))\n",
    "df.boxplot()\n",
    "plt.show()"
   ]
  },
  {
   "cell_type": "code",
   "execution_count": null,
   "id": "9e75035e",
   "metadata": {},
   "outputs": [],
   "source": []
  }
 ],
 "metadata": {
  "kernelspec": {
   "display_name": "Python 3 (ipykernel)",
   "language": "python",
   "name": "python3"
  },
  "language_info": {
   "codemirror_mode": {
    "name": "ipython",
    "version": 3
   },
   "file_extension": ".py",
   "mimetype": "text/x-python",
   "name": "python",
   "nbconvert_exporter": "python",
   "pygments_lexer": "ipython3",
   "version": "3.9.7"
  }
 },
 "nbformat": 4,
 "nbformat_minor": 5
}
